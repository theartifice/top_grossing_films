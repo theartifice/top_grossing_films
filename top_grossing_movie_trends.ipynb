{
 "cells": [
  {
   "cell_type": "markdown",
   "id": "3d5fefb5",
   "metadata": {},
   "source": [
    "# Top Grossing Movie Trends\n",
    "\n",
    "The two datasets used are the [Top 1000 Highest Grossing Movies](https://www.kaggle.com/sanjeetsinghnaik/top-1000-highest-grossing-movies) and [Hollywood Synopsis (1995-2021)](https://www.kaggle.com/johnharshith/hollywood-theatrical-market-synopsis-1995-to-2021?select=TopProductionMethods.csv). The aim of this workbook is to investigate variables related to these datasets to reveal relationships of film characteristics and gross.  The process for analysis follows the CRISP-DM\n",
    "procedure."
   ]
  },
  {
   "cell_type": "code",
   "execution_count": 1,
   "id": "ba203ad7",
   "metadata": {},
   "outputs": [
    {
     "data": {
      "text/html": [
       "<div>\n",
       "<style scoped>\n",
       "    .dataframe tbody tr th:only-of-type {\n",
       "        vertical-align: middle;\n",
       "    }\n",
       "\n",
       "    .dataframe tbody tr th {\n",
       "        vertical-align: top;\n",
       "    }\n",
       "\n",
       "    .dataframe thead th {\n",
       "        text-align: right;\n",
       "    }\n",
       "</style>\n",
       "<table border=\"1\" class=\"dataframe\">\n",
       "  <thead>\n",
       "    <tr style=\"text-align: right;\">\n",
       "      <th></th>\n",
       "      <th>RANK</th>\n",
       "      <th>GENRES</th>\n",
       "      <th>MOVIES</th>\n",
       "      <th>TOTAL GROSS</th>\n",
       "      <th>AVERAGE GROSS</th>\n",
       "      <th>MARKET SHARE</th>\n",
       "    </tr>\n",
       "  </thead>\n",
       "  <tbody>\n",
       "    <tr>\n",
       "      <th>0</th>\n",
       "      <td>1</td>\n",
       "      <td>Adventure</td>\n",
       "      <td>1,102</td>\n",
       "      <td>$64,529,536,530</td>\n",
       "      <td>$58,556,748</td>\n",
       "      <td>27.14%</td>\n",
       "    </tr>\n",
       "    <tr>\n",
       "      <th>1</th>\n",
       "      <td>2</td>\n",
       "      <td>Action</td>\n",
       "      <td>1,098</td>\n",
       "      <td>$49,339,974,493</td>\n",
       "      <td>$44,936,224</td>\n",
       "      <td>20.75%</td>\n",
       "    </tr>\n",
       "    <tr>\n",
       "      <th>2</th>\n",
       "      <td>3</td>\n",
       "      <td>Drama</td>\n",
       "      <td>5,479</td>\n",
       "      <td>$35,586,177,269</td>\n",
       "      <td>$6,495,013</td>\n",
       "      <td>14.97%</td>\n",
       "    </tr>\n",
       "    <tr>\n",
       "      <th>3</th>\n",
       "      <td>4</td>\n",
       "      <td>Comedy</td>\n",
       "      <td>2,418</td>\n",
       "      <td>$33,687,992,318</td>\n",
       "      <td>$13,932,172</td>\n",
       "      <td>14.17%</td>\n",
       "    </tr>\n",
       "    <tr>\n",
       "      <th>4</th>\n",
       "      <td>5</td>\n",
       "      <td>Thriller/Suspense</td>\n",
       "      <td>1,186</td>\n",
       "      <td>$19,810,201,102</td>\n",
       "      <td>$16,703,374</td>\n",
       "      <td>8.33%</td>\n",
       "    </tr>\n",
       "  </tbody>\n",
       "</table>\n",
       "</div>"
      ],
      "text/plain": [
       "   RANK             GENRES MOVIES      TOTAL GROSS AVERAGE GROSS MARKET SHARE\n",
       "0     1          Adventure  1,102  $64,529,536,530   $58,556,748       27.14%\n",
       "1     2             Action  1,098  $49,339,974,493   $44,936,224       20.75%\n",
       "2     3              Drama  5,479  $35,586,177,269    $6,495,013       14.97%\n",
       "3     4             Comedy  2,418  $33,687,992,318   $13,932,172       14.17%\n",
       "4     5  Thriller/Suspense  1,186  $19,810,201,102   $16,703,374        8.33%"
      ]
     },
     "execution_count": 1,
     "metadata": {},
     "output_type": "execute_result"
    }
   ],
   "source": [
    "#Import required modules to clean, analyze an visualize data.\n",
    "import numpy as np\n",
    "import pandas as pd\n",
    "import matplotlib.pyplot as plt\n",
    "import seaborn as sns\n",
    "from IPython import display\n",
    "%matplotlib inline\n",
    "\n",
    "#Read in the relevant datasets.\n",
    "top_1000 = pd.read_csv('./Top1000.csv')\n",
    "annual = pd.read_csv('./AnnualTicketSales.csv')\n",
    "highest_gross = pd.read_csv('./HighestGrossers.csv')\n",
    "top_dist = pd.read_csv('./TopDistributors.csv')\n",
    "top_genres = pd.read_csv('./TopGenres.csv')\n",
    "top_mpaa = pd.read_csv('./TopGrossingRatings.csv')\n",
    "top_prod = pd.read_csv('./TopProductionMethods.csv')\n",
    "\n",
    "#Check df \n",
    "top_genres.head()"
   ]
  },
  {
   "cell_type": "markdown",
   "id": "7c62e374",
   "metadata": {},
   "source": [
    "### 1) Does the prodution method influence gross of a film?\n",
    "\n",
    "The dataset does not contain which movies were produced with which methods but contain valuable data for the gross and quantity. The following shows the cleaning process to remove parsing to make is viable for analysis. [NOTE: Only execute this cell once or restart the kernel]"
   ]
  },
  {
   "cell_type": "code",
   "execution_count": 2,
   "id": "f1f0b026",
   "metadata": {},
   "outputs": [
    {
     "name": "stderr",
     "output_type": "stream",
     "text": [
      "<ipython-input-2-ff13ced62b41>:4: FutureWarning: The default value of regex will change from True to False in a future version. In addition, single character regular expressions will*not* be treated as literal strings when regex=True.\n",
      "  top_prod['TOTAL GROSS'] = top_prod['TOTAL GROSS'].str.replace('$','')\n",
      "<ipython-input-2-ff13ced62b41>:6: FutureWarning: The default value of regex will change from True to False in a future version. In addition, single character regular expressions will*not* be treated as literal strings when regex=True.\n",
      "  top_prod['AVERAGE GROSS'] = top_prod['AVERAGE GROSS'].str.replace('$','')\n"
     ]
    },
    {
     "data": {
      "text/html": [
       "<div>\n",
       "<style scoped>\n",
       "    .dataframe tbody tr th:only-of-type {\n",
       "        vertical-align: middle;\n",
       "    }\n",
       "\n",
       "    .dataframe tbody tr th {\n",
       "        vertical-align: top;\n",
       "    }\n",
       "\n",
       "    .dataframe thead th {\n",
       "        text-align: right;\n",
       "    }\n",
       "</style>\n",
       "<table border=\"1\" class=\"dataframe\">\n",
       "  <thead>\n",
       "    <tr style=\"text-align: right;\">\n",
       "      <th></th>\n",
       "      <th>RANK</th>\n",
       "      <th>PRODUCTION METHODS</th>\n",
       "      <th>MOVIES</th>\n",
       "      <th>TOTAL GROSS</th>\n",
       "      <th>AVERAGE GROSS</th>\n",
       "      <th>MARKET SHARE</th>\n",
       "    </tr>\n",
       "  </thead>\n",
       "  <tbody>\n",
       "    <tr>\n",
       "      <th>0</th>\n",
       "      <td>1</td>\n",
       "      <td>Live Action</td>\n",
       "      <td>14613</td>\n",
       "      <td>179637201848</td>\n",
       "      <td>12292972</td>\n",
       "      <td>75.56</td>\n",
       "    </tr>\n",
       "    <tr>\n",
       "      <th>1</th>\n",
       "      <td>2</td>\n",
       "      <td>Animation/Live Action</td>\n",
       "      <td>264</td>\n",
       "      <td>30346622254</td>\n",
       "      <td>114949327</td>\n",
       "      <td>12.76</td>\n",
       "    </tr>\n",
       "    <tr>\n",
       "      <th>2</th>\n",
       "      <td>3</td>\n",
       "      <td>Digital Animation</td>\n",
       "      <td>365</td>\n",
       "      <td>23920180508</td>\n",
       "      <td>65534741</td>\n",
       "      <td>10.06</td>\n",
       "    </tr>\n",
       "    <tr>\n",
       "      <th>3</th>\n",
       "      <td>4</td>\n",
       "      <td>Hand Animation</td>\n",
       "      <td>164</td>\n",
       "      <td>2960497487</td>\n",
       "      <td>18051814</td>\n",
       "      <td>1.25</td>\n",
       "    </tr>\n",
       "    <tr>\n",
       "      <th>4</th>\n",
       "      <td>5</td>\n",
       "      <td>Stop-Motion Animation</td>\n",
       "      <td>37</td>\n",
       "      <td>676490120</td>\n",
       "      <td>18283517</td>\n",
       "      <td>0.28</td>\n",
       "    </tr>\n",
       "    <tr>\n",
       "      <th>5</th>\n",
       "      <td>6</td>\n",
       "      <td>Multiple Production Methods</td>\n",
       "      <td>26</td>\n",
       "      <td>43728300</td>\n",
       "      <td>1681858</td>\n",
       "      <td>0.02</td>\n",
       "    </tr>\n",
       "    <tr>\n",
       "      <th>6</th>\n",
       "      <td>7</td>\n",
       "      <td>Rotoscoping</td>\n",
       "      <td>4</td>\n",
       "      <td>8468385</td>\n",
       "      <td>2117096</td>\n",
       "      <td>0.00</td>\n",
       "    </tr>\n",
       "  </tbody>\n",
       "</table>\n",
       "</div>"
      ],
      "text/plain": [
       "   RANK           PRODUCTION METHODS MOVIES   TOTAL GROSS AVERAGE GROSS  \\\n",
       "0     1                  Live Action  14613  179637201848      12292972   \n",
       "1     2        Animation/Live Action    264   30346622254     114949327   \n",
       "2     3            Digital Animation    365   23920180508      65534741   \n",
       "3     4               Hand Animation    164    2960497487      18051814   \n",
       "4     5        Stop-Motion Animation     37     676490120      18283517   \n",
       "5     6  Multiple Production Methods     26      43728300       1681858   \n",
       "6     7                  Rotoscoping      4       8468385       2117096   \n",
       "\n",
       "  MARKET SHARE  \n",
       "0        75.56  \n",
       "1        12.76  \n",
       "2        10.06  \n",
       "3         1.25  \n",
       "4         0.28  \n",
       "5         0.02  \n",
       "6         0.00  "
      ]
     },
     "execution_count": 2,
     "metadata": {},
     "output_type": "execute_result"
    }
   ],
   "source": [
    "#Clean strings of ',' andd '$'.\n",
    "top_prod['MOVIES'] = top_prod['MOVIES'].str.replace(',','')\n",
    "top_prod['TOTAL GROSS'] = top_prod['TOTAL GROSS'].str.replace(',','')\n",
    "top_prod['TOTAL GROSS'] = top_prod['TOTAL GROSS'].str.replace('$','')\n",
    "top_prod['AVERAGE GROSS'] = top_prod['AVERAGE GROSS'].str.replace(',','')\n",
    "top_prod['AVERAGE GROSS'] = top_prod['AVERAGE GROSS'].str.replace('$','')\n",
    "top_prod['MARKET SHARE'] = top_prod['MARKET SHARE'].str.replace('%','')\n",
    "\n",
    "\n",
    "top_prod.head(8)"
   ]
  },
  {
   "cell_type": "markdown",
   "id": "455a0058",
   "metadata": {},
   "source": [
    "The data is converted to float-type:"
   ]
  },
  {
   "cell_type": "code",
   "execution_count": 3,
   "id": "433f564b",
   "metadata": {},
   "outputs": [
    {
     "data": {
      "text/html": [
       "<div>\n",
       "<style scoped>\n",
       "    .dataframe tbody tr th:only-of-type {\n",
       "        vertical-align: middle;\n",
       "    }\n",
       "\n",
       "    .dataframe tbody tr th {\n",
       "        vertical-align: top;\n",
       "    }\n",
       "\n",
       "    .dataframe thead th {\n",
       "        text-align: right;\n",
       "    }\n",
       "</style>\n",
       "<table border=\"1\" class=\"dataframe\">\n",
       "  <thead>\n",
       "    <tr style=\"text-align: right;\">\n",
       "      <th></th>\n",
       "      <th>RANK</th>\n",
       "      <th>PRODUCTION METHODS</th>\n",
       "      <th>MOVIES</th>\n",
       "      <th>TOTAL GROSS</th>\n",
       "      <th>AVERAGE GROSS</th>\n",
       "      <th>MARKET SHARE</th>\n",
       "    </tr>\n",
       "  </thead>\n",
       "  <tbody>\n",
       "    <tr>\n",
       "      <th>0</th>\n",
       "      <td>1</td>\n",
       "      <td>Live Action</td>\n",
       "      <td>14613</td>\n",
       "      <td>179.637207</td>\n",
       "      <td>12.292972</td>\n",
       "      <td>0.7556</td>\n",
       "    </tr>\n",
       "    <tr>\n",
       "      <th>1</th>\n",
       "      <td>2</td>\n",
       "      <td>Animation/Live Action</td>\n",
       "      <td>264</td>\n",
       "      <td>30.346622</td>\n",
       "      <td>114.949326</td>\n",
       "      <td>0.1276</td>\n",
       "    </tr>\n",
       "    <tr>\n",
       "      <th>2</th>\n",
       "      <td>3</td>\n",
       "      <td>Digital Animation</td>\n",
       "      <td>365</td>\n",
       "      <td>23.920181</td>\n",
       "      <td>65.534737</td>\n",
       "      <td>0.1006</td>\n",
       "    </tr>\n",
       "    <tr>\n",
       "      <th>3</th>\n",
       "      <td>4</td>\n",
       "      <td>Hand Animation</td>\n",
       "      <td>164</td>\n",
       "      <td>2.960497</td>\n",
       "      <td>18.051813</td>\n",
       "      <td>0.0125</td>\n",
       "    </tr>\n",
       "    <tr>\n",
       "      <th>4</th>\n",
       "      <td>5</td>\n",
       "      <td>Stop-Motion Animation</td>\n",
       "      <td>37</td>\n",
       "      <td>0.676490</td>\n",
       "      <td>18.283516</td>\n",
       "      <td>0.0028</td>\n",
       "    </tr>\n",
       "    <tr>\n",
       "      <th>5</th>\n",
       "      <td>6</td>\n",
       "      <td>Multiple Production Methods</td>\n",
       "      <td>26</td>\n",
       "      <td>0.043728</td>\n",
       "      <td>1.681858</td>\n",
       "      <td>0.0002</td>\n",
       "    </tr>\n",
       "    <tr>\n",
       "      <th>6</th>\n",
       "      <td>7</td>\n",
       "      <td>Rotoscoping</td>\n",
       "      <td>4</td>\n",
       "      <td>0.008468</td>\n",
       "      <td>2.117096</td>\n",
       "      <td>0.0000</td>\n",
       "    </tr>\n",
       "  </tbody>\n",
       "</table>\n",
       "</div>"
      ],
      "text/plain": [
       "   RANK           PRODUCTION METHODS MOVIES  TOTAL GROSS  AVERAGE GROSS  \\\n",
       "0     1                  Live Action  14613   179.637207      12.292972   \n",
       "1     2        Animation/Live Action    264    30.346622     114.949326   \n",
       "2     3            Digital Animation    365    23.920181      65.534737   \n",
       "3     4               Hand Animation    164     2.960497      18.051813   \n",
       "4     5        Stop-Motion Animation     37     0.676490      18.283516   \n",
       "5     6  Multiple Production Methods     26     0.043728       1.681858   \n",
       "6     7                  Rotoscoping      4     0.008468       2.117096   \n",
       "\n",
       "   MARKET SHARE  \n",
       "0        0.7556  \n",
       "1        0.1276  \n",
       "2        0.1006  \n",
       "3        0.0125  \n",
       "4        0.0028  \n",
       "5        0.0002  \n",
       "6        0.0000  "
      ]
     },
     "execution_count": 3,
     "metadata": {},
     "output_type": "execute_result"
    }
   ],
   "source": [
    "#Float conversion for the strings\n",
    "top_prod['TOTAL GROSS'] = top_prod['TOTAL GROSS'].astype(np.float32)/1E9\n",
    "top_prod['AVERAGE GROSS'] = top_prod['AVERAGE GROSS'].astype(np.float32)/1E6\n",
    "top_prod['MARKET SHARE'] = top_prod['MARKET SHARE'].astype(float)/100\n",
    "\n",
    "top_prod.head(8)"
   ]
  },
  {
   "cell_type": "markdown",
   "id": "ec58e681",
   "metadata": {},
   "source": [
    "A new dataframe is created, where the relevant columns are subsetted. The dataframe is plotted as a bar figure. The total and average gross shows the top three methods are live action, animation and digital animation. In addition, more exclusively live action movies are produced but does not yield the highest gross on average, where digital animation leads the group."
   ]
  },
  {
   "cell_type": "code",
   "execution_count": 20,
   "id": "ddb7ac94",
   "metadata": {},
   "outputs": [
    {
     "data": {
      "image/png": "[encoded data removed]",
      "text/plain": [
       "<Figure size 432x288 with 2 Axes>"
      ]
     },
     "metadata": {
      "needs_background": "light"
     },
     "output_type": "display_data"
    }
   ],
   "source": [
    "#Initiate variables for subset\n",
    "index = top_prod['PRODUCTION METHODS']\n",
    "total_g = top_prod['TOTAL GROSS']\n",
    "avg_g = top_prod['AVERAGE GROSS']\n",
    "\n",
    "#Subset data to new df for bar figure\n",
    "prod_bar = pd.DataFrame({'Methods':index, 'Total Gross':total_g, 'Average Gross':avg_g})\n",
    "prod_bar.set_index('Methods', inplace=True)\n",
    "\n",
    "#Plot bar figure for aveage and total gross\n",
    "ax1 = prod_bar.plot(kind='bar', subplots=True, legend=False)\n",
    "ax1[0].set_ylabel('Dollars \\n per billion ($1E9)')\n",
    "ax1[1].set_ylabel('Dollars \\n per million ($1E6)')\n",
    "ax1[0].set_title('Total Gross')\n",
    "\n",
    "#Saving .png file of figure\n",
    "plt.savefig('ProductionBar.png', bbox_inches='tight', dpi=150)"
   ]
  },
  {
   "cell_type": "markdown",
   "id": "95342f4f",
   "metadata": {},
   "source": [
    "### 2) How does runtime affect movie gross?\n",
    "\n",
    "The dataset of the top 1000 films, contains data for the runtime of each entry.  It is listed as a object/string, so cleaning is required. There are no NaN values so all rows can be used. The data of interest are all the sales variables and runtime."
   ]
  },
  {
   "cell_type": "code",
   "execution_count": 5,
   "id": "454edf6c",
   "metadata": {},
   "outputs": [
    {
     "data": {
      "text/html": [
       "<div>\n",
       "<style scoped>\n",
       "    .dataframe tbody tr th:only-of-type {\n",
       "        vertical-align: middle;\n",
       "    }\n",
       "\n",
       "    .dataframe tbody tr th {\n",
       "        vertical-align: top;\n",
       "    }\n",
       "\n",
       "    .dataframe thead th {\n",
       "        text-align: right;\n",
       "    }\n",
       "</style>\n",
       "<table border=\"1\" class=\"dataframe\">\n",
       "  <thead>\n",
       "    <tr style=\"text-align: right;\">\n",
       "      <th></th>\n",
       "      <th>Title</th>\n",
       "      <th>Movie Info</th>\n",
       "      <th>Distributor</th>\n",
       "      <th>Release Date</th>\n",
       "      <th>Domestic Sales (in $)</th>\n",
       "      <th>International Sales (in $)</th>\n",
       "      <th>World Sales (in $)</th>\n",
       "      <th>Genre</th>\n",
       "      <th>Movie Runtime</th>\n",
       "      <th>License</th>\n",
       "    </tr>\n",
       "  </thead>\n",
       "  <tbody>\n",
       "    <tr>\n",
       "      <th>0</th>\n",
       "      <td>Star Wars: Episode VII - The Force Awakens (2015)</td>\n",
       "      <td>As a new threat to the galaxy rises, Rey, a de...</td>\n",
       "      <td>Walt Disney Studios Motion Pictures</td>\n",
       "      <td>December 16, 2015</td>\n",
       "      <td>936662225</td>\n",
       "      <td>1132859475</td>\n",
       "      <td>2069521700</td>\n",
       "      <td>['Action', 'Adventure', 'Sci-Fi']</td>\n",
       "      <td>2 hr 18 min</td>\n",
       "      <td>PG-13</td>\n",
       "    </tr>\n",
       "    <tr>\n",
       "      <th>1</th>\n",
       "      <td>Avengers: Endgame (2019)</td>\n",
       "      <td>After the devastating events of Avengers: Infi...</td>\n",
       "      <td>Walt Disney Studios Motion Pictures</td>\n",
       "      <td>April 24, 2019</td>\n",
       "      <td>858373000</td>\n",
       "      <td>1939128328</td>\n",
       "      <td>2797501328</td>\n",
       "      <td>['Action', 'Adventure', 'Drama', 'Sci-Fi']</td>\n",
       "      <td>3 hr 1 min</td>\n",
       "      <td>PG-13</td>\n",
       "    </tr>\n",
       "  </tbody>\n",
       "</table>\n",
       "</div>"
      ],
      "text/plain": [
       "                                               Title  \\\n",
       "0  Star Wars: Episode VII - The Force Awakens (2015)   \n",
       "1                           Avengers: Endgame (2019)   \n",
       "\n",
       "                                          Movie Info  \\\n",
       "0  As a new threat to the galaxy rises, Rey, a de...   \n",
       "1  After the devastating events of Avengers: Infi...   \n",
       "\n",
       "                           Distributor       Release Date  \\\n",
       "0  Walt Disney Studios Motion Pictures  December 16, 2015   \n",
       "1  Walt Disney Studios Motion Pictures     April 24, 2019   \n",
       "\n",
       "   Domestic Sales (in $)  International Sales (in $)  World Sales (in $)  \\\n",
       "0              936662225                  1132859475          2069521700   \n",
       "1              858373000                  1939128328          2797501328   \n",
       "\n",
       "                                        Genre Movie Runtime License  \n",
       "0           ['Action', 'Adventure', 'Sci-Fi']   2 hr 18 min   PG-13  \n",
       "1  ['Action', 'Adventure', 'Drama', 'Sci-Fi']    3 hr 1 min   PG-13  "
      ]
     },
     "execution_count": 5,
     "metadata": {},
     "output_type": "execute_result"
    }
   ],
   "source": [
    "#Check dataframe sample and drop 'Unnamed column'\n",
    "top_1000.drop('Unnamed: 0', axis='columns', inplace=True)\n",
    "\n",
    "top_1000.head(2)"
   ]
  },
  {
   "cell_type": "code",
   "execution_count": 6,
   "id": "7b51ea2f",
   "metadata": {},
   "outputs": [
    {
     "data": {
      "text/plain": [
       "0"
      ]
     },
     "execution_count": 6,
     "metadata": {},
     "output_type": "execute_result"
    }
   ],
   "source": [
    "#Check data types\n",
    "top_1000.dtypes\n",
    "\n",
    "#Check if any NaN values are in the 'Movie Runtime' column\n",
    "top_1000['Movie Runtime'].isnull().sum()"
   ]
  },
  {
   "cell_type": "markdown",
   "id": "86c9fb7d",
   "metadata": {},
   "source": [
    "The following removes the 'min' substring for simpler extraction of the runtime."
   ]
  },
  {
   "cell_type": "code",
   "execution_count": 7,
   "id": "cbadd9d1",
   "metadata": {},
   "outputs": [
    {
     "data": {
      "text/html": [
       "<div>\n",
       "<style scoped>\n",
       "    .dataframe tbody tr th:only-of-type {\n",
       "        vertical-align: middle;\n",
       "    }\n",
       "\n",
       "    .dataframe tbody tr th {\n",
       "        vertical-align: top;\n",
       "    }\n",
       "\n",
       "    .dataframe thead th {\n",
       "        text-align: right;\n",
       "    }\n",
       "</style>\n",
       "<table border=\"1\" class=\"dataframe\">\n",
       "  <thead>\n",
       "    <tr style=\"text-align: right;\">\n",
       "      <th></th>\n",
       "      <th>Title</th>\n",
       "      <th>Movie Info</th>\n",
       "      <th>Distributor</th>\n",
       "      <th>Release Date</th>\n",
       "      <th>Domestic Sales (in $)</th>\n",
       "      <th>International Sales (in $)</th>\n",
       "      <th>World Sales (in $)</th>\n",
       "      <th>Genre</th>\n",
       "      <th>Movie Runtime</th>\n",
       "      <th>License</th>\n",
       "    </tr>\n",
       "  </thead>\n",
       "  <tbody>\n",
       "    <tr>\n",
       "      <th>0</th>\n",
       "      <td>Star Wars: Episode VII - The Force Awakens (2015)</td>\n",
       "      <td>As a new threat to the galaxy rises, Rey, a de...</td>\n",
       "      <td>Walt Disney Studios Motion Pictures</td>\n",
       "      <td>December 16, 2015</td>\n",
       "      <td>936662225</td>\n",
       "      <td>1132859475</td>\n",
       "      <td>2069521700</td>\n",
       "      <td>['Action', 'Adventure', 'Sci-Fi']</td>\n",
       "      <td>2 hr 18</td>\n",
       "      <td>PG-13</td>\n",
       "    </tr>\n",
       "    <tr>\n",
       "      <th>1</th>\n",
       "      <td>Avengers: Endgame (2019)</td>\n",
       "      <td>After the devastating events of Avengers: Infi...</td>\n",
       "      <td>Walt Disney Studios Motion Pictures</td>\n",
       "      <td>April 24, 2019</td>\n",
       "      <td>858373000</td>\n",
       "      <td>1939128328</td>\n",
       "      <td>2797501328</td>\n",
       "      <td>['Action', 'Adventure', 'Drama', 'Sci-Fi']</td>\n",
       "      <td>3 hr 1</td>\n",
       "      <td>PG-13</td>\n",
       "    </tr>\n",
       "  </tbody>\n",
       "</table>\n",
       "</div>"
      ],
      "text/plain": [
       "                                               Title  \\\n",
       "0  Star Wars: Episode VII - The Force Awakens (2015)   \n",
       "1                           Avengers: Endgame (2019)   \n",
       "\n",
       "                                          Movie Info  \\\n",
       "0  As a new threat to the galaxy rises, Rey, a de...   \n",
       "1  After the devastating events of Avengers: Infi...   \n",
       "\n",
       "                           Distributor       Release Date  \\\n",
       "0  Walt Disney Studios Motion Pictures  December 16, 2015   \n",
       "1  Walt Disney Studios Motion Pictures     April 24, 2019   \n",
       "\n",
       "   Domestic Sales (in $)  International Sales (in $)  World Sales (in $)  \\\n",
       "0              936662225                  1132859475          2069521700   \n",
       "1              858373000                  1939128328          2797501328   \n",
       "\n",
       "                                        Genre Movie Runtime License  \n",
       "0           ['Action', 'Adventure', 'Sci-Fi']       2 hr 18   PG-13  \n",
       "1  ['Action', 'Adventure', 'Drama', 'Sci-Fi']        3 hr 1   PG-13  "
      ]
     },
     "execution_count": 7,
     "metadata": {},
     "output_type": "execute_result"
    }
   ],
   "source": [
    "#top_1000['Movie Runtime'] = top_1000['Movie Runtime'].str.replace(' hr ', '-')\n",
    "top_1000['Movie Runtime'] = top_1000['Movie Runtime'].str.replace(' min', '')\n",
    "\n",
    "top_1000.head(2)"
   ]
  },
  {
   "cell_type": "markdown",
   "id": "63ef0a09",
   "metadata": {},
   "source": [
    "The runtime currently in a format of 'X hr XX min' is a string type and hard to compare to other movie runtimes. It is required to convert the runtime to one specific unit eg. minutes."
   ]
  },
  {
   "cell_type": "code",
   "execution_count": 8,
   "id": "850578fd",
   "metadata": {},
   "outputs": [
    {
     "data": {
      "text/html": [
       "<div>\n",
       "<style scoped>\n",
       "    .dataframe tbody tr th:only-of-type {\n",
       "        vertical-align: middle;\n",
       "    }\n",
       "\n",
       "    .dataframe tbody tr th {\n",
       "        vertical-align: top;\n",
       "    }\n",
       "\n",
       "    .dataframe thead th {\n",
       "        text-align: right;\n",
       "    }\n",
       "</style>\n",
       "<table border=\"1\" class=\"dataframe\">\n",
       "  <thead>\n",
       "    <tr style=\"text-align: right;\">\n",
       "      <th></th>\n",
       "      <th>Title</th>\n",
       "      <th>Movie Info</th>\n",
       "      <th>Distributor</th>\n",
       "      <th>Release Date</th>\n",
       "      <th>Domestic Sales (in $)</th>\n",
       "      <th>International Sales (in $)</th>\n",
       "      <th>World Sales (in $)</th>\n",
       "      <th>Genre</th>\n",
       "      <th>Movie Runtime</th>\n",
       "      <th>License</th>\n",
       "    </tr>\n",
       "  </thead>\n",
       "  <tbody>\n",
       "    <tr>\n",
       "      <th>0</th>\n",
       "      <td>Star Wars: Episode VII - The Force Awakens (2015)</td>\n",
       "      <td>As a new threat to the galaxy rises, Rey, a de...</td>\n",
       "      <td>Walt Disney Studios Motion Pictures</td>\n",
       "      <td>December 16, 2015</td>\n",
       "      <td>936662225</td>\n",
       "      <td>1132859475</td>\n",
       "      <td>2069521700</td>\n",
       "      <td>['Action', 'Adventure', 'Sci-Fi']</td>\n",
       "      <td>138</td>\n",
       "      <td>PG-13</td>\n",
       "    </tr>\n",
       "    <tr>\n",
       "      <th>1</th>\n",
       "      <td>Avengers: Endgame (2019)</td>\n",
       "      <td>After the devastating events of Avengers: Infi...</td>\n",
       "      <td>Walt Disney Studios Motion Pictures</td>\n",
       "      <td>April 24, 2019</td>\n",
       "      <td>858373000</td>\n",
       "      <td>1939128328</td>\n",
       "      <td>2797501328</td>\n",
       "      <td>['Action', 'Adventure', 'Drama', 'Sci-Fi']</td>\n",
       "      <td>181</td>\n",
       "      <td>PG-13</td>\n",
       "    </tr>\n",
       "  </tbody>\n",
       "</table>\n",
       "</div>"
      ],
      "text/plain": [
       "                                               Title  \\\n",
       "0  Star Wars: Episode VII - The Force Awakens (2015)   \n",
       "1                           Avengers: Endgame (2019)   \n",
       "\n",
       "                                          Movie Info  \\\n",
       "0  As a new threat to the galaxy rises, Rey, a de...   \n",
       "1  After the devastating events of Avengers: Infi...   \n",
       "\n",
       "                           Distributor       Release Date  \\\n",
       "0  Walt Disney Studios Motion Pictures  December 16, 2015   \n",
       "1  Walt Disney Studios Motion Pictures     April 24, 2019   \n",
       "\n",
       "   Domestic Sales (in $)  International Sales (in $)  World Sales (in $)  \\\n",
       "0              936662225                  1132859475          2069521700   \n",
       "1              858373000                  1939128328          2797501328   \n",
       "\n",
       "                                        Genre  Movie Runtime License  \n",
       "0           ['Action', 'Adventure', 'Sci-Fi']            138   PG-13  \n",
       "1  ['Action', 'Adventure', 'Drama', 'Sci-Fi']            181   PG-13  "
      ]
     },
     "execution_count": 8,
     "metadata": {},
     "output_type": "execute_result"
    }
   ],
   "source": [
    "#Initiate variables for loop\n",
    "hour = 0\n",
    "minu = 0\n",
    "runtime = []\n",
    "\n",
    "#Append strings to list, and convert the strings to int and calculates the total runtime in minutes\n",
    "for row in range(len(top_1000.index)):\n",
    "    runtime.append(top_1000['Movie Runtime'][row])\n",
    "    hour = runtime[row][0]\n",
    "    if len(runtime[row]) > 4:\n",
    "        minu = runtime[row][5:]\n",
    "    runtime[row] = int(hour) * 60 + int(minu)\n",
    "    minu = 0\n",
    "    \n",
    "#Replace the existing column with runtime in minutes    \n",
    "top_1000['Movie Runtime'] = runtime\n",
    "top_1000.head(2)"
   ]
  },
  {
   "cell_type": "markdown",
   "id": "d09dd233",
   "metadata": {},
   "source": [
    "The following analysis, takes a look into the statistics between the numeric variables of the dataset. The first is histograms of the variables, which visually shows the right skewed distribution of 'Movie Runtime', while the sales is also right skewed, the distribution is more exponential."
   ]
  },
  {
   "cell_type": "code",
   "execution_count": 9,
   "id": "428b2950",
   "metadata": {},
   "outputs": [
    {
     "data": {
      "image/png": "[encoded data removed]",
      "text/plain": [
       "<Figure size 432x288 with 4 Axes>"
      ]
     },
     "metadata": {
      "needs_background": "light"
     },
     "output_type": "display_data"
    }
   ],
   "source": [
    "#Plot histogram for numeric varibles\n",
    "top_1000.hist();"
   ]
  },
  {
   "cell_type": "markdown",
   "id": "5333f665",
   "metadata": {},
   "source": [
    "The second shows the correlation between the variables. As shown, there are strong relationships between the sales. However, there is a weak positive correlation between 'Movie Runtime' and all the sales variables. "
   ]
  },
  {
   "cell_type": "code",
   "execution_count": 10,
   "id": "6539b7cd",
   "metadata": {},
   "outputs": [
    {
     "data": {
      "image/png": "[encoded data removed]",
      "text/plain": [
       "<Figure size 432x288 with 2 Axes>"
      ]
     },
     "metadata": {
      "needs_background": "light"
     },
     "output_type": "display_data"
    }
   ],
   "source": [
    "#Plot correlation for numeric variables\n",
    "ax2 = sns.heatmap(top_1000.corr(), annot=True, fmt=\".2f\");\n",
    "ax2.set_title('Correlation between numeric variables')\n",
    "\n",
    "#Saving .png file of figure\n",
    "plt.savefig('NumericCorrelation.png', bbox_inches='tight', dpi=150)"
   ]
  },
  {
   "cell_type": "markdown",
   "id": "4755d1e5",
   "metadata": {},
   "source": [
    "The last showcase, clarifies the correlation between 'World Sales' and 'Movie Runtime' There is some linearity, but the spread around the means are too unpredictable. Thus, the conclusion can be that runtime is not a particularly significant measure of gross."
   ]
  },
  {
   "cell_type": "code",
   "execution_count": 11,
   "id": "bb1aee46",
   "metadata": {
    "scrolled": true
   },
   "outputs": [
    {
     "data": {
      "image/png": "[encoded data removed]",
      "text/plain": [
       "<Figure size 432x288 with 1 Axes>"
      ]
     },
     "metadata": {
      "needs_background": "light"
     },
     "output_type": "display_data"
    }
   ],
   "source": [
    "#Extract column and normalize and subset to same df\n",
    "w_sales = top_1000['World Sales (in $)']/1E9\n",
    "top_1000['World Sales (in $)'] = w_sales\n",
    "\n",
    "#Plot scatter plot of runtime vs world sales\n",
    "ax3 = top_1000.plot.scatter(x='Movie Runtime', y='World Sales (in $)')\n",
    "ax3.set_ylabel(\"Dollars \\n per billion ($1E9)\")\n",
    "ax3.set_title('Relationship between \\n World Sales and Movie Runtime')\n",
    "\n",
    "#Saving .png file of figure\n",
    "plt.savefig('RuntimeGrossScatter.png', bbox_inches='tight', dpi=150)"
   ]
  },
  {
   "cell_type": "markdown",
   "id": "90d1a9c6",
   "metadata": {},
   "source": [
    "### 3) Which genres are popular in term of gross over time?\n",
    "\n",
    "The cinema industry has been around for almost a millenia and many genres have been introduced. The two relevant datasets contain a wide timeframe: 1995-2021. Which genres generate the most gross over the years? The genres for the latest films (2019-2021) are filled with the correct genre. Furthermore, cleaning is required for analysis."
   ]
  },
  {
   "cell_type": "code",
   "execution_count": 12,
   "id": "1e35b2a8",
   "metadata": {},
   "outputs": [],
   "source": [
    "#Fill the latest films with 'Action'\n",
    "highest_gross.fillna('Action', inplace=True)\n",
    "\n",
    "#highest_gross.head(30)"
   ]
  },
  {
   "cell_type": "code",
   "execution_count": 13,
   "id": "4d49c3e5",
   "metadata": {},
   "outputs": [
    {
     "name": "stderr",
     "output_type": "stream",
     "text": [
      "<ipython-input-13-d6b425f165c2>:3: FutureWarning: The default value of regex will change from True to False in a future version. In addition, single character regular expressions will*not* be treated as literal strings when regex=True.\n",
      "  highest_gross['TOTAL FOR YEAR'] = highest_gross['TOTAL FOR YEAR'].str.replace('$','')\n",
      "<ipython-input-13-d6b425f165c2>:5: FutureWarning: The default value of regex will change from True to False in a future version. In addition, single character regular expressions will*not* be treated as literal strings when regex=True.\n",
      "  highest_gross['TOTAL IN 2019 DOLLARS'] = highest_gross['TOTAL IN 2019 DOLLARS'].str.replace('$','')\n",
      "<ipython-input-13-d6b425f165c2>:7: FutureWarning: The default value of regex will change from True to False in a future version. In addition, single character regular expressions will*not* be treated as literal strings when regex=True.\n",
      "  highest_gross['TICKETS SOLD'] = highest_gross['TICKETS SOLD'].str.replace('$','')\n"
     ]
    },
    {
     "data": {
      "text/html": [
       "<div>\n",
       "<style scoped>\n",
       "    .dataframe tbody tr th:only-of-type {\n",
       "        vertical-align: middle;\n",
       "    }\n",
       "\n",
       "    .dataframe tbody tr th {\n",
       "        vertical-align: top;\n",
       "    }\n",
       "\n",
       "    .dataframe thead th {\n",
       "        text-align: right;\n",
       "    }\n",
       "</style>\n",
       "<table border=\"1\" class=\"dataframe\">\n",
       "  <thead>\n",
       "    <tr style=\"text-align: right;\">\n",
       "      <th></th>\n",
       "      <th>YEAR</th>\n",
       "      <th>MOVIE</th>\n",
       "      <th>GENRE</th>\n",
       "      <th>MPAA RATING</th>\n",
       "      <th>DISTRIBUTOR</th>\n",
       "      <th>TOTAL FOR YEAR</th>\n",
       "      <th>TOTAL IN 2019 DOLLARS</th>\n",
       "      <th>TICKETS SOLD</th>\n",
       "    </tr>\n",
       "  </thead>\n",
       "  <tbody>\n",
       "    <tr>\n",
       "      <th>0</th>\n",
       "      <td>1995</td>\n",
       "      <td>Batman Forever</td>\n",
       "      <td>Drama</td>\n",
       "      <td>PG-13</td>\n",
       "      <td>Warner Bros.</td>\n",
       "      <td>184031112</td>\n",
       "      <td>387522978</td>\n",
       "      <td>42306002</td>\n",
       "    </tr>\n",
       "    <tr>\n",
       "      <th>1</th>\n",
       "      <td>1996</td>\n",
       "      <td>Independence Day</td>\n",
       "      <td>Adventure</td>\n",
       "      <td>PG-13</td>\n",
       "      <td>20th Century Fox</td>\n",
       "      <td>306169255</td>\n",
       "      <td>634504608</td>\n",
       "      <td>69269062</td>\n",
       "    </tr>\n",
       "    <tr>\n",
       "      <th>2</th>\n",
       "      <td>1997</td>\n",
       "      <td>Men in Black</td>\n",
       "      <td>Adventure</td>\n",
       "      <td>PG-13</td>\n",
       "      <td>Sony Pictures</td>\n",
       "      <td>250650052</td>\n",
       "      <td>500207943</td>\n",
       "      <td>54607854</td>\n",
       "    </tr>\n",
       "    <tr>\n",
       "      <th>3</th>\n",
       "      <td>1998</td>\n",
       "      <td>Titanic</td>\n",
       "      <td>Adventure</td>\n",
       "      <td>PG-13</td>\n",
       "      <td>Paramount Pictures</td>\n",
       "      <td>443319081</td>\n",
       "      <td>865842808</td>\n",
       "      <td>94524324</td>\n",
       "    </tr>\n",
       "    <tr>\n",
       "      <th>4</th>\n",
       "      <td>1999</td>\n",
       "      <td>Star Wars Ep. I: The Phantom Menace</td>\n",
       "      <td>Adventure</td>\n",
       "      <td>PG</td>\n",
       "      <td>20th Century Fox</td>\n",
       "      <td>430443350</td>\n",
       "      <td>776153749</td>\n",
       "      <td>84732942</td>\n",
       "    </tr>\n",
       "  </tbody>\n",
       "</table>\n",
       "</div>"
      ],
      "text/plain": [
       "   YEAR                                MOVIE      GENRE MPAA RATING  \\\n",
       "0  1995                       Batman Forever      Drama       PG-13   \n",
       "1  1996                     Independence Day  Adventure       PG-13   \n",
       "2  1997                         Men in Black  Adventure       PG-13   \n",
       "3  1998                              Titanic  Adventure       PG-13   \n",
       "4  1999  Star Wars Ep. I: The Phantom Menace  Adventure          PG   \n",
       "\n",
       "          DISTRIBUTOR TOTAL FOR YEAR TOTAL IN 2019 DOLLARS TICKETS SOLD  \n",
       "0        Warner Bros.      184031112             387522978     42306002  \n",
       "1    20th Century Fox      306169255             634504608     69269062  \n",
       "2       Sony Pictures      250650052             500207943     54607854  \n",
       "3  Paramount Pictures      443319081             865842808     94524324  \n",
       "4    20th Century Fox      430443350             776153749     84732942  "
      ]
     },
     "execution_count": 13,
     "metadata": {},
     "output_type": "execute_result"
    }
   ],
   "source": [
    "#Clean strings of ',' andd '$'.\n",
    "highest_gross['TOTAL FOR YEAR'] = highest_gross['TOTAL FOR YEAR'].str.replace(',','')\n",
    "highest_gross['TOTAL FOR YEAR'] = highest_gross['TOTAL FOR YEAR'].str.replace('$','')\n",
    "highest_gross['TOTAL IN 2019 DOLLARS'] = highest_gross['TOTAL IN 2019 DOLLARS'].str.replace(',','')\n",
    "highest_gross['TOTAL IN 2019 DOLLARS'] = highest_gross['TOTAL IN 2019 DOLLARS'].str.replace('$','')\n",
    "highest_gross['TICKETS SOLD'] = highest_gross['TICKETS SOLD'].str.replace(',','')\n",
    "highest_gross['TICKETS SOLD'] = highest_gross['TICKETS SOLD'].str.replace('$','')\n",
    "\n",
    "highest_gross.head()"
   ]
  },
  {
   "cell_type": "markdown",
   "id": "552f13cd",
   "metadata": {},
   "source": [
    "The following converts the string objects to floats and normalize. The gross for release year, total gross in 2019 andd tickets are affected. The means of each genre based on these variables are assessed."
   ]
  },
  {
   "cell_type": "code",
   "execution_count": 14,
   "id": "14a39978",
   "metadata": {},
   "outputs": [],
   "source": [
    "#Convert strings to floats and normalize\n",
    "highest_gross['TOTAL FOR YEAR'] = highest_gross['TOTAL FOR YEAR'].astype(np.float32)/1E6\n",
    "highest_gross['TOTAL IN 2019 DOLLARS'] = highest_gross['TOTAL IN 2019 DOLLARS'].astype(np.float32)/1E6\n",
    "highest_gross['TICKETS SOLD'] = highest_gross['TICKETS SOLD'].astype(np.float32)/1E6"
   ]
  },
  {
   "cell_type": "code",
   "execution_count": 15,
   "id": "aff97b51",
   "metadata": {},
   "outputs": [
    {
     "data": {
      "text/plain": [
       "GENRE\n",
       "Action       477.876190\n",
       "Adventure    385.852722\n",
       "Drama        184.031097\n",
       "Name: TOTAL FOR YEAR, dtype: float32"
      ]
     },
     "execution_count": 15,
     "metadata": {},
     "output_type": "execute_result"
    }
   ],
   "source": [
    "#Combining genre and gross for year and calculating the mean\n",
    "highest_gross.groupby(['GENRE']).mean()['TOTAL FOR YEAR']"
   ]
  },
  {
   "cell_type": "code",
   "execution_count": 16,
   "id": "78821709",
   "metadata": {},
   "outputs": [
    {
     "data": {
      "text/plain": [
       "GENRE\n",
       "Action       532.414795\n",
       "Adventure    583.846985\n",
       "Drama        387.522980\n",
       "Name: TOTAL IN 2019 DOLLARS, dtype: float32"
      ]
     },
     "execution_count": 16,
     "metadata": {},
     "output_type": "execute_result"
    }
   ],
   "source": [
    "#Combining genre and gross for 2019 and calculating the mean\n",
    "highest_gross.groupby(['GENRE']).mean()['TOTAL IN 2019 DOLLARS']"
   ]
  },
  {
   "cell_type": "code",
   "execution_count": 17,
   "id": "4ef69cb9",
   "metadata": {},
   "outputs": [
    {
     "data": {
      "text/plain": [
       "GENRE\n",
       "Action       58.123886\n",
       "Adventure    63.738754\n",
       "Drama        42.306000\n",
       "Name: TICKETS SOLD, dtype: float32"
      ]
     },
     "execution_count": 17,
     "metadata": {},
     "output_type": "execute_result"
    }
   ],
   "source": [
    "#Combining genre and tickets sold and calculating the mean\n",
    "highest_gross.groupby(['GENRE']).mean()['TICKETS SOLD']"
   ]
  },
  {
   "cell_type": "markdown",
   "id": "4ebf0034",
   "metadata": {},
   "source": [
    "The groupby function shows that for release year, 'Action' is the top grossing genre. However, for the adjusted gross in 2019, 'Adventure earned more.\n",
    "\n",
    "To investigate the change of genre over time, a cumulative sum can be used to count the number of films in each genre. This can be plotted for the timeframe. There are not too many data  points to justify any conclusive analysis, but it is shown that the majority of top grossing films are 'Adventure' and 'Action', with Adventure with the most counts almost entirely for the timeframe."
   ]
  },
  {
   "cell_type": "code",
   "execution_count": 19,
   "id": "37ea0147",
   "metadata": {},
   "outputs": [
    {
     "data": {
      "image/png": "[encoded data removed]",
      "text/plain": [
       "<Figure size 432x288 with 1 Axes>"
      ]
     },
     "metadata": {
      "needs_background": "light"
     },
     "output_type": "display_data"
    }
   ],
   "source": [
    "#Initiate variables for the loop\n",
    "years = []\n",
    "drama = []\n",
    "adventure = []\n",
    "action = []\n",
    "prev_dr = 0\n",
    "prev_ad = 0\n",
    "prev_ac = 0\n",
    "\n",
    "#Iterate through all films in dataset\n",
    "for row in range(len(highest_gross.index)):\n",
    "    #Initiate variables for cumulative sum\n",
    "    if row > 0:\n",
    "        prev_dr = drama[row - 1]\n",
    "        prev_ad = adventure[row -1]\n",
    "        prev_ac = action[row - 1]\n",
    "        \n",
    "    #Cumulative sum conditions for each genre\n",
    "    if highest_gross['GENRE'][row] == 'Drama':\n",
    "        drama.append(prev_dr + 1)\n",
    "    else:\n",
    "        drama.append(prev_dr)\n",
    "    if highest_gross['GENRE'][row] == 'Adventure':\n",
    "        adventure.append(prev_ad + 1)\n",
    "    else:\n",
    "        adventure.append(prev_ad)\n",
    "    if highest_gross['GENRE'][row] == 'Action':\n",
    "        action.append(prev_ac + 1) \n",
    "    else:\n",
    "        action.append(prev_ac)\n",
    "        \n",
    "    #Initiation and creation of companion x-axis variable    \n",
    "    if row == 0:\n",
    "        prev_year = 1995\n",
    "        years.append(prev_year)\n",
    "    else:\n",
    "        prev_year = years[row - 1]\n",
    "        years.append(prev_year + 1)\n",
    "        \n",
    "#Plotting of cumulative sum ffor eeach genre        \n",
    "plt.plot(years, drama, label='Drama')\n",
    "plt.plot(years, adventure, label='Adventure')\n",
    "plt.plot(years, action, label='Action')\n",
    "plt.xlabel('Years')\n",
    "plt.ylabel('Number of Films per Genre')\n",
    "plt.title('Cumulative Sum of Top Grossing Films per Genre')\n",
    "plt.legend()\n",
    "\n",
    "#Saving .png file of figure\n",
    "plt.savefig('CSumGenre.png', bbox_inches='tight', dpi=150)"
   ]
  },
  {
   "cell_type": "markdown",
   "id": "54719e54",
   "metadata": {},
   "source": [
    "The production method, runtime and genre was inspected throughout the analysis, to identify if the variables can be used for predicting gross andd present any other findings. The production method shows that certain methods show more gross than others but is not the most accurate measure. A production budget  would be a more predictable measure. The different runtimes shows weak positive relationship which cannot be usedd for any moels. Lastly the genre is aa complex variables as a film can belong to more than one. For the top 1000 grossing it is difficult to select a majory genre for each film. However, a genre prediction model can be considered for future work. Therefore, the three variables cannot be used for a gross prediction model."
   ]
  }
 ],
 "metadata": {
  "kernelspec": {
   "display_name": "Python 3",
   "language": "python",
   "name": "python3"
  },
  "language_info": {
   "codemirror_mode": {
    "name": "ipython",
    "version": 3
   },
   "file_extension": ".py",
   "mimetype": "text/x-python",
   "name": "python",
   "nbconvert_exporter": "python",
   "pygments_lexer": "ipython3",
   "version": "3.8.8"
  }
 },
 "nbformat": 4,
 "nbformat_minor": 5
}
